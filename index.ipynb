{
 "cells": [
  {
   "cell_type": "markdown",
   "metadata": {},
   "source": [
    "# Creating Addresses"
   ]
  },
  {
   "cell_type": "code",
   "execution_count": 1,
   "metadata": {},
   "outputs": [
    {
     "name": "stdout",
     "output_type": "stream",
     "text": [
      "b'19ZewH8Kk1PDbSNdJ97FP4EiCjTRaZMZQA'\n"
     ]
    }
   ],
   "source": [
    "# Address Example\n",
    "\n",
    "from helper import encode_base58, hash160, double_sha256\n",
    "sec = bytes.fromhex('025CBDF0646E5DB4EAA398F365F2EA7A0E3D419B7E0330E39CE92BDDEDCAC4F9BC')\n",
    "h160 = hash160(sec)\n",
    "raw = b\"\\x00\" + h160\n",
    "raw = raw + double_sha256(raw)[:4]\n",
    "addr = encode_base58(raw)\n",
    "print(addr)"
   ]
  },
  {
   "cell_type": "markdown",
   "metadata": {},
   "source": [
    "### Try it\n",
    "\n",
    "#### Find the mainnet and testnet addresses corresponding to the private keys:\n",
    "```\n",
    "compressed, 888**3\n",
    "uncompressed, 321\n",
    "uncompressed, 4242424242\n",
    "```"
   ]
  },
  {
   "cell_type": "code",
   "execution_count": 3,
   "metadata": {},
   "outputs": [
    {
     "ename": "TypeError",
     "evalue": "fromhex() argument must be str, not bytes",
     "output_type": "error",
     "traceback": [
      "\u001b[0;31m\u001b[0m",
      "\u001b[0;31mTypeError\u001b[0mTraceback (most recent call last)",
      "\u001b[0;32m<ipython-input-3-d1fce41c1ab9>\u001b[0m in \u001b[0;36m<module>\u001b[0;34m()\u001b[0m\n\u001b[1;32m     25\u001b[0m \u001b[0;34m\u001b[0m\u001b[0m\n\u001b[1;32m     26\u001b[0m     \u001b[0;31m# hash160 the result\u001b[0m\u001b[0;34m\u001b[0m\u001b[0;34m\u001b[0m\u001b[0m\n\u001b[0;32m---> 27\u001b[0;31m     \u001b[0msec\u001b[0m \u001b[0;34m=\u001b[0m \u001b[0mbytes\u001b[0m\u001b[0;34m.\u001b[0m\u001b[0mfromhex\u001b[0m\u001b[0;34m(\u001b[0m\u001b[0mprefix\u001b[0m \u001b[0;34m+\u001b[0m \u001b[0mpub_point\u001b[0m\u001b[0;34m.\u001b[0m\u001b[0mx\u001b[0m\u001b[0;34m.\u001b[0m\u001b[0mnum\u001b[0m\u001b[0;34m.\u001b[0m\u001b[0mto_bytes\u001b[0m\u001b[0;34m(\u001b[0m\u001b[0;36m32\u001b[0m\u001b[0;34m,\u001b[0m \u001b[0;34m'big'\u001b[0m\u001b[0;34m)\u001b[0m\u001b[0;34m)\u001b[0m\u001b[0;34m\u001b[0m\u001b[0m\n\u001b[0m\u001b[1;32m     28\u001b[0m     \u001b[0mh160\u001b[0m \u001b[0;34m=\u001b[0m \u001b[0mhash160\u001b[0m\u001b[0;34m(\u001b[0m\u001b[0msec\u001b[0m\u001b[0;34m)\u001b[0m\u001b[0;34m\u001b[0m\u001b[0m\n\u001b[1;32m     29\u001b[0m     \u001b[0;31m# prepend b'\\x00' for mainnet b'\\x6f' for testnet\u001b[0m\u001b[0;34m\u001b[0m\u001b[0;34m\u001b[0m\u001b[0m\n",
      "\u001b[0;31mTypeError\u001b[0m: fromhex() argument must be str, not bytes"
     ]
    }
   ],
   "source": [
    "from ecc import G\n",
    "\n",
    "from helper import double_sha256, encode_base58, hash160\n",
    "\n",
    "components = (\n",
    "    # (compressed, secret)\n",
    "    (True, 888**3),\n",
    "    (False, 321),\n",
    "    (False, 4242424242),\n",
    ")\n",
    "\n",
    "# iterate through components\n",
    "for compressed, secret in components:\n",
    "    # get the public point\n",
    "    pub_point = secret*G\n",
    "    \n",
    "    # get the sec format\n",
    "    if not compressed:\n",
    "        prefix = b'\\x04'\n",
    "        sec = \n",
    "    else:\n",
    "        if pub_point.y.num % 2 == 1:\n",
    "            prefix = b'\\x03'\n",
    "        else:\n",
    "            prefix = b'\\x02'\n",
    "            \n",
    "    # hash160 the result\n",
    "    x = \n",
    "    sec = bytes.fromhex(prefix + pub_point.x.num)\n",
    "    h160 = hash160(sec)\n",
    "    # prepend b'\\x00' for mainnet b'\\x6f' for testnet\n",
    "    raw_mainnet = b'x00' + h160\n",
    "    raw_testnet = b'x6f' + h160\n",
    "        # raw is the prefix + h160\n",
    "        # get the double_sha256 of raw, first 4 bytes are the checksum\n",
    "    raw_mainnet = raw_mainnet + double_sha256(raw_mainnet)[:4]\n",
    "    mainnet_addr = encode_base58(raw_mainnet)\n",
    "    \n",
    "    raw_testnet = raw_testnet + double_sha256(raw_testnet)[:4]\n",
    "    testnet_addr = encode_base58(raw_testnet)\n",
    "\n",
    "    print(mainnet_addr)\n",
    "    print(testnet_addr)"
   ]
  },
  {
   "cell_type": "markdown",
   "metadata": {},
   "source": [
    "### Test Driven Exercise"
   ]
  },
  {
   "cell_type": "code",
   "execution_count": null,
   "metadata": {},
   "outputs": [],
   "source": [
    "from ecc import S256Point, G\n",
    "\n",
    "from helper import double_sha256, encode_base58, hash160\n",
    "\n",
    "class S256Point(S256Point):\n",
    "\n",
    "    def address(self, compressed=True, testnet=False):\n",
    "        '''Returns the address string'''\n",
    "        # get the sec\n",
    "        # hash160 the sec\n",
    "        # raw is hash 160 prepended w/ b'\\x00' for mainnet, b'\\x6f' for testnet\n",
    "        # checksum is first 4 bytes of double_sha256 of raw\n",
    "        # encode_base58 the raw + checksum\n",
    "        # return as a string, you can use .decode('ascii') to do this.\n",
    "        pass"
   ]
  }
 ],
 "metadata": {
  "kernelspec": {
   "display_name": "Python 3",
   "language": "python",
   "name": "python3"
  },
  "language_info": {
   "codemirror_mode": {
    "name": "ipython",
    "version": 3
   },
   "file_extension": ".py",
   "mimetype": "text/x-python",
   "name": "python",
   "nbconvert_exporter": "python",
   "pygments_lexer": "ipython3",
   "version": "3.6.4"
  }
 },
 "nbformat": 4,
 "nbformat_minor": 2
}
